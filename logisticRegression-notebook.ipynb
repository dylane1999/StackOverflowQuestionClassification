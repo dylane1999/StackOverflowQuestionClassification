{
 "cells": [
  {
   "cell_type": "markdown",
   "metadata": {},
   "source": [
    "# Logistic Regression with uni, bi, and tri gram embeddings"
   ]
  },
  {
   "cell_type": "markdown",
   "metadata": {},
   "source": [
    "## imports"
   ]
  },
  {
   "cell_type": "code",
   "execution_count": 2,
   "metadata": {
    "pycharm": {
     "name": "#%%\n"
    }
   },
   "outputs": [
    {
     "name": "stderr",
     "output_type": "stream",
     "text": [
      "[nltk_data] Downloading package opinion_lexicon to\n",
      "[nltk_data]     /Users/dylanedwards/nltk_data...\n",
      "[nltk_data]   Package opinion_lexicon is already up-to-date!\n",
      "[nltk_data] Downloading package stopwords to\n",
      "[nltk_data]     /Users/dylanedwards/nltk_data...\n",
      "[nltk_data]   Package stopwords is already up-to-date!\n",
      "[nltk_data] Downloading package punkt to\n",
      "[nltk_data]     /Users/dylanedwards/nltk_data...\n",
      "[nltk_data]   Package punkt is already up-to-date!\n"
     ]
    },
    {
     "data": {
      "text/plain": [
       "True"
      ]
     },
     "execution_count": 2,
     "metadata": {},
     "output_type": "execute_result"
    }
   ],
   "source": [
    "import string\n",
    "from os import listdir\n",
    "from os.path import isfile, join\n",
    "import nltk\n",
    "from nltk import word_tokenize\n",
    "from nltk.corpus import opinion_lexicon\n",
    "from nltk.corpus import stopwords\n",
    "from nltk.stem.porter import PorterStemmer\n",
    "import re\n",
    "import numpy as np\n",
    "import pandas as pd\n",
    "from sklearn.linear_model import LogisticRegression\n",
    "from sklearn.model_selection import KFold\n",
    "from sklearn.naive_bayes import GaussianNB\n",
    "from sklearn.metrics import precision_recall_curve\n",
    "from sklearn.metrics import average_precision_score\n",
    "from sklearn.metrics import plot_precision_recall_curve\n",
    "from sklearn.linear_model import LogisticRegression\n",
    "from sklearn.feature_extraction.text import CountVectorizer\n",
    "\n",
    "\n",
    "# Libraries\n",
    "\n",
    "import matplotlib.pyplot as plt\n",
    "import pandas as pd\n",
    "import torch\n",
    "\n",
    "# Preliminaries\n",
    "from torchtext.legacy.data import Field, TabularDataset, BucketIterator, Iterator\n",
    "from sklearn.model_selection import train_test_split\n",
    "\n",
    "# Models\n",
    "\n",
    "import torch.nn as nn\n",
    "from transformers import BertTokenizer, BertForSequenceClassification\n",
    "\n",
    "# Training\n",
    "\n",
    "import torch.optim as optim\n",
    "\n",
    "# Evaluation\n",
    "\n",
    "from sklearn.metrics import accuracy_score, classification_report, confusion_matrix\n",
    "import seaborn as sns\n",
    "\n",
    "nltk.download('opinion_lexicon')\n",
    "nltk.download(\"stopwords\")\n",
    "nltk.download(\"punkt\")"
   ]
  },
  {
   "cell_type": "markdown",
   "metadata": {},
   "source": [
    "### configs"
   ]
  },
  {
   "cell_type": "code",
   "execution_count": 3,
   "metadata": {},
   "outputs": [],
   "source": [
    "train_test_ratio = 0.10\n",
    "train_valid_ratio = 0.80\n",
    "\n",
    "first_n_words = 350\n",
    "\n",
    "destination_folder = \"./data\""
   ]
  },
  {
   "cell_type": "markdown",
   "metadata": {},
   "source": [
    "### setup puncuation and contractions to help clean text"
   ]
  },
  {
   "cell_type": "code",
   "execution_count": 4,
   "metadata": {},
   "outputs": [],
   "source": [
    "punctuation = string.punctuation\n",
    "positive_dict = set(opinion_lexicon.positive())\n",
    "negative_dict = set(opinion_lexicon.negative())\n",
    "positive_dict_stemmed = [PorterStemmer().stem(word) for word in positive_dict]\n",
    "negative_dict_stemmed = [PorterStemmer().stem(word) for word in negative_dict]\n",
    "\n",
    "contractions = {\n",
    "\"ain't\": \"am not\",\n",
    "\"aren't\": \"are not\",\n",
    "\"can't\": \"cannot\",\n",
    "\"can't've\": \"cannot have\",\n",
    "\"'cause\": \"because\",\n",
    "\"could've\": \"could have\",\n",
    "\"couldn't\": \"could not\",\n",
    "\"couldn't've\": \"could not have\",\n",
    "\"didn't\": \"did not\",\n",
    "\"doesn't\": \"does not\",\n",
    "\"don't\": \"do not\",\n",
    "\"hadn't\": \"had not\",\n",
    "\"hadn't've\": \"had not have\",\n",
    "\"hasn't\": \"has not\",\n",
    "\"haven't\": \"have not\",\n",
    "\"he'd\": \"he would\",\n",
    "\"he'd've\": \"he would have\",\n",
    "\"he'll\": \"he will\",\n",
    "\"he's\": \"he is\",\n",
    "\"how'd\": \"how did\",\n",
    "\"how'll\": \"how will\",\n",
    "\"how's\": \"how is\",\n",
    "\"i'd\": \"i would\",\n",
    "\"i'll\": \"i will\",\n",
    "\"i'm\": \"i am\",\n",
    "\"i've\": \"i have\",\n",
    "\"isn't\": \"is not\",\n",
    "\"it'd\": \"it would\",\n",
    "\"it'll\": \"it will\",\n",
    "\"it's\": \"it is\",\n",
    "\"let's\": \"let us\",\n",
    "\"ma'am\": \"madam\",\n",
    "\"mayn't\": \"may not\",\n",
    "\"might've\": \"might have\",\n",
    "\"mightn't\": \"might not\",\n",
    "\"must've\": \"must have\",\n",
    "\"mustn't\": \"must not\",\n",
    "\"needn't\": \"need not\",\n",
    "\"oughtn't\": \"ought not\",\n",
    "\"shan't\": \"shall not\",\n",
    "\"sha'n't\": \"shall not\",\n",
    "\"she'd\": \"she would\",\n",
    "\"she'll\": \"she will\",\n",
    "\"she's\": \"she is\",\n",
    "\"should've\": \"should have\",\n",
    "\"shouldn't\": \"should not\",\n",
    "\"that'd\": \"that would\",\n",
    "\"that's\": \"that is\",\n",
    "\"there'd\": \"there had\",\n",
    "\"there's\": \"there is\",\n",
    "\"they'd\": \"they would\",\n",
    "\"they'll\": \"they will\",\n",
    "\"they're\": \"they are\",\n",
    "\"they've\": \"they have\",\n",
    "\"wasn't\": \"was not\",\n",
    "\"we'd\": \"we would\",\n",
    "\"we'll\": \"we will\",\n",
    "\"we're\": \"we are\",\n",
    "\"we've\": \"we have\",\n",
    "\"weren't\": \"were not\",\n",
    "\"what'll\": \"what will\",\n",
    "\"what're\": \"what are\",\n",
    "\"what's\": \"what is\",\n",
    "\"what've\": \"what have\",\n",
    "\"where'd\": \"where did\",\n",
    "\"where's\": \"where is\",\n",
    "\"who'll\": \"who will\",\n",
    "\"who's\": \"who is\",\n",
    "\"won't\": \"will not\",\n",
    "\"wouldn't\": \"would not\",\n",
    "\"you'd\": \"you would\",\n",
    "\"you'll\": \"you will\",\n",
    "\"you're\": \"you are\"\n",
    "}"
   ]
  },
  {
   "cell_type": "markdown",
   "metadata": {},
   "source": [
    "### functions to help get data from txt files and to process and clean data"
   ]
  },
  {
   "cell_type": "code",
   "execution_count": 5,
   "metadata": {
    "pycharm": {
     "name": "#%%\n"
    }
   },
   "outputs": [],
   "source": [
    "def get_file_key(fileName):\n",
    "    # get the file num\n",
    "    return int(fileName.split(\"_\")[1].split(\".\")[0]) \n",
    "    \n",
    "def get_files_from_dir(directory):\n",
    "    filesInDir = [f for f in listdir(directory) if isfile(join(directory, f))]\n",
    "    return sorted(filesInDir, key = get_file_key)   \n",
    "        \n",
    "def process_string_sentence(text):\n",
    "        englishStopwords = stopwords.words(\"english\")  # non-neccesary words\n",
    "        text = text.lower()  # case folding\n",
    "        # remove punctuation\n",
    "        text = \"\".join([char for char in text if char not in punctuation])\n",
    "        words = word_tokenize(text)\n",
    "        removed = [word for word in words if word not in englishStopwords]\n",
    "        stemmed = [PorterStemmer().stem(word) for word in removed]\n",
    "        stemmed_sentence = \" \".join(stemmed)\n",
    "        return stemmed_sentence\n",
    "\n",
    "def process_string(text):\n",
    "        englishStopwords = stopwords.words(\"english\")  # non-neccesary words\n",
    "        text = text.lower()  # case folding\n",
    "        # remove punctuation\n",
    "        text = \"\".join([char for char in text if char not in punctuation])\n",
    "        words = word_tokenize(text)\n",
    "        removed = [word for word in words if word not in englishStopwords]\n",
    "        return [\", \".join(removed)]\n",
    "\n",
    "\n",
    "def tokenize_files(files, dir):\n",
    "        cleaned_positive_files = []\n",
    "        for file in files:\n",
    "            file_path = str.format(\"{}/{}\", dir, file)\n",
    "            with open(file_path) as f:\n",
    "                raw_text = f.read()\n",
    "                cleaned_positive_files.append(process_string(raw_text))\n",
    "        return cleaned_positive_files\n",
    "\n",
    "def is_word_positive(word):\n",
    "        if word in positive_dict or word in positive_dict_stemmed:\n",
    "            return True\n",
    "        return False\n",
    "\n",
    "def is_word_negative(word):\n",
    "    if word in negative_dict or word in negative_dict_stemmed:\n",
    "        return True\n",
    "    return False\n",
    "\n",
    "\n",
    "\n",
    "def get_word_occurrences(tokenized_files):\n",
    "        word_occurrences = {}\n",
    "        word_occurrences[\"positive\"] = 0\n",
    "        word_occurrences[\"negative\"] = 0\n",
    "        total_num_words = 0\n",
    "        for file in tokenized_files:\n",
    "            # calc number exclams\n",
    "            # calc number pos/neg/words\n",
    "            for word in file:\n",
    "                if is_word_positive(word):\n",
    "                    word_occurrences[\"positive\"] += 1\n",
    "                if is_word_negative(word):\n",
    "                    word_occurrences[\"negative\"] += 1\n",
    "                if word not in word_occurrences:\n",
    "                    word_occurrences[word] = 0\n",
    "                word_occurrences[word] += 1\n",
    "                total_num_words += 1\n",
    "        return word_occurrences, total_num_words\n",
    "\n",
    "def get_raw_text_from_files(files: list, dir: str) -> list:\n",
    "    raw_text = []\n",
    "    for file in files:\n",
    "        file_path = str.format(\"{}/{}\", dir, file)\n",
    "        with open(file_path) as f:\n",
    "            file_text_in_lines = f.read()\n",
    "            raw_text.append(file_text_in_lines)\n",
    "    return raw_text\n",
    "\n",
    "def clean_text(text, remove_stopwords = True):\n",
    "    '''Remove unwanted characters, stopwords, and format the text to create fewer nulls word embeddings'''\n",
    "\n",
    "    # Convert words to lower case\n",
    "    text = text.lower()\n",
    "\n",
    "    # Replace contractions with their longer forms\n",
    "    if True:\n",
    "        text = text.split()\n",
    "        new_text = []\n",
    "        for word in text:\n",
    "            if word in contractions:\n",
    "                new_text.append(contractions[word])\n",
    "            else:\n",
    "                new_text.append(word)\n",
    "        text = \" \".join(new_text)\n",
    "\n",
    "    # Format words and remove unwanted characters\n",
    "    text = re.sub(r'https?:\\/\\/.*[\\r\\n]*', '', text, flags=re.MULTILINE)\n",
    "    text = re.sub(r'\\<a href', ' ', text)\n",
    "    text = re.sub(r'&amp;', '', text)\n",
    "    text = re.sub(r'[_\"\\-;%()|+&=*%.,!?:#$@\\[\\]/]', ' ', text)\n",
    "    text = re.sub(r'<br />', ' ', text)\n",
    "    text = re.sub(r'\\'', ' ', text)\n",
    "\n",
    "    # remove stop words\n",
    "    if remove_stopwords:\n",
    "        text = text.split()\n",
    "        stops = set(stopwords.words(\"english\"))\n",
    "        text = [w for w in text if not w in stops]\n",
    "        text = \" \".join(text)\n",
    "\n",
    "    # Tokenize each word\n",
    "    text =  nltk.WordPunctTokenizer().tokenize(text)\n",
    "\n",
    "    return text\n"
   ]
  },
  {
   "cell_type": "markdown",
   "metadata": {},
   "source": [
    "### import and process the data"
   ]
  },
  {
   "cell_type": "code",
   "execution_count": 6,
   "metadata": {},
   "outputs": [],
   "source": [
    "df = pd.read_csv(\"./data/raw_train.csv\")"
   ]
  },
  {
   "cell_type": "code",
   "execution_count": 7,
   "metadata": {},
   "outputs": [],
   "source": [
    "dataSample = df.sample(n = 10000)"
   ]
  },
  {
   "cell_type": "code",
   "execution_count": 8,
   "metadata": {},
   "outputs": [],
   "source": [
    "\n",
    "dataSample['All_Labels'] = (dataSample['OpenStatus'] == 'open').astype('int')\n",
    "dataSample['titletext'] = dataSample['Title'] + \". \" + dataSample['BodyMarkdown']"
   ]
  },
  {
   "cell_type": "markdown",
   "metadata": {},
   "source": [
    "### gather and clean data "
   ]
  },
  {
   "cell_type": "code",
   "execution_count": 9,
   "metadata": {
    "pycharm": {
     "name": "#%%\n"
    }
   },
   "outputs": [],
   "source": [
    "# neg_data = np.array(get_raw_text_from_files(get_files_from_dir(\"./data/neg\"), \"data/neg\"))\n",
    "# pos_data = np.array(get_raw_text_from_files(get_files_from_dir(\"./data/pos\"), \"data/pos\"))\n",
    "# allData = np.concatenate((neg_data, pos_data))\n",
    "# # making labels for the data, the first\n",
    "# neg_labels = np.fromiter([0 for i in range(len(neg_data))], int)  # create negative labels\n",
    "# pos_labels = np.fromiter([1 for i in range(len(pos_data))], int)  # create positive labels\n",
    "# allLabels = np.concatenate((neg_labels, pos_labels))\n",
    "\n",
    "dataSample['Titles_Cleaned'] = list(map(clean_text, dataSample[\"Title\"]))\n",
    "dataSample['Bodies_Cleaned'] = list(map(clean_text, dataSample[\"BodyMarkdown\"]))\n",
    "dataSample['Title_Text_Cleaned'] = list(map(clean_text, dataSample[\"titletext\"]))\n"
   ]
  },
  {
   "cell_type": "code",
   "execution_count": 10,
   "metadata": {},
   "outputs": [],
   "source": [
    "# # allLabels = np.concatenate((neg_labels, pos_labels))\n",
    "# dataSample['All_Labels'] = list(dataSample['OpenStatus'] == \"open\")\n",
    "# dataSample['All_Labels'] = dataSample['All_Labels'].astype(int)"
   ]
  },
  {
   "cell_type": "code",
   "execution_count": 11,
   "metadata": {},
   "outputs": [
    {
     "data": {
      "text/html": [
       "<div>\n",
       "<style scoped>\n",
       "    .dataframe tbody tr th:only-of-type {\n",
       "        vertical-align: middle;\n",
       "    }\n",
       "\n",
       "    .dataframe tbody tr th {\n",
       "        vertical-align: top;\n",
       "    }\n",
       "\n",
       "    .dataframe thead th {\n",
       "        text-align: right;\n",
       "    }\n",
       "</style>\n",
       "<table border=\"1\" class=\"dataframe\">\n",
       "  <thead>\n",
       "    <tr style=\"text-align: right;\">\n",
       "      <th></th>\n",
       "      <th>PostId</th>\n",
       "      <th>PostCreationDate</th>\n",
       "      <th>OwnerUserId</th>\n",
       "      <th>OwnerCreationDate</th>\n",
       "      <th>ReputationAtPostCreation</th>\n",
       "      <th>OwnerUndeletedAnswerCountAtPostTime</th>\n",
       "      <th>Title</th>\n",
       "      <th>BodyMarkdown</th>\n",
       "      <th>Tag1</th>\n",
       "      <th>Tag2</th>\n",
       "      <th>Tag3</th>\n",
       "      <th>Tag4</th>\n",
       "      <th>Tag5</th>\n",
       "      <th>PostClosedDate</th>\n",
       "      <th>OpenStatus</th>\n",
       "    </tr>\n",
       "  </thead>\n",
       "  <tbody>\n",
       "    <tr>\n",
       "      <th>0</th>\n",
       "      <td>4</td>\n",
       "      <td>07/31/2008 21:42:52</td>\n",
       "      <td>8</td>\n",
       "      <td>07/31/2008 21:33:24</td>\n",
       "      <td>1</td>\n",
       "      <td>0</td>\n",
       "      <td>Decimal vs Double?</td>\n",
       "      <td>I'm new to C#, and I want to use a trackbar fo...</td>\n",
       "      <td>c#</td>\n",
       "      <td>NaN</td>\n",
       "      <td>NaN</td>\n",
       "      <td>NaN</td>\n",
       "      <td>NaN</td>\n",
       "      <td>NaN</td>\n",
       "      <td>open</td>\n",
       "    </tr>\n",
       "    <tr>\n",
       "      <th>1</th>\n",
       "      <td>6</td>\n",
       "      <td>07/31/2008 22:08:08</td>\n",
       "      <td>9</td>\n",
       "      <td>07/31/2008 21:35:26</td>\n",
       "      <td>1</td>\n",
       "      <td>0</td>\n",
       "      <td>Percentage width child in absolutely positione...</td>\n",
       "      <td>I've got an absolutely positioned div containi...</td>\n",
       "      <td>html</td>\n",
       "      <td>css</td>\n",
       "      <td>NaN</td>\n",
       "      <td>NaN</td>\n",
       "      <td>NaN</td>\n",
       "      <td>NaN</td>\n",
       "      <td>open</td>\n",
       "    </tr>\n",
       "    <tr>\n",
       "      <th>2</th>\n",
       "      <td>8</td>\n",
       "      <td>07/31/2008 23:33:19</td>\n",
       "      <td>9</td>\n",
       "      <td>07/31/2008 21:35:26</td>\n",
       "      <td>16</td>\n",
       "      <td>1</td>\n",
       "      <td>Tools for porting J# code to C#</td>\n",
       "      <td>Are there any conversion tools for porting Vis...</td>\n",
       "      <td>j#</td>\n",
       "      <td>NaN</td>\n",
       "      <td>NaN</td>\n",
       "      <td>NaN</td>\n",
       "      <td>NaN</td>\n",
       "      <td>NaN</td>\n",
       "      <td>open</td>\n",
       "    </tr>\n",
       "    <tr>\n",
       "      <th>3</th>\n",
       "      <td>9</td>\n",
       "      <td>07/31/2008 23:40:59</td>\n",
       "      <td>1</td>\n",
       "      <td>07/31/2008 14:22:31</td>\n",
       "      <td>1</td>\n",
       "      <td>1</td>\n",
       "      <td>How do I calculate someone's age in c#?</td>\n",
       "      <td>Given a DateTime representing their birthday, ...</td>\n",
       "      <td>c#</td>\n",
       "      <td>NaN</td>\n",
       "      <td>NaN</td>\n",
       "      <td>NaN</td>\n",
       "      <td>NaN</td>\n",
       "      <td>NaN</td>\n",
       "      <td>open</td>\n",
       "    </tr>\n",
       "    <tr>\n",
       "      <th>4</th>\n",
       "      <td>9610539</td>\n",
       "      <td>03/07/2012 23:07:09</td>\n",
       "      <td>1021610</td>\n",
       "      <td>10/31/2011 08:26:49</td>\n",
       "      <td>29</td>\n",
       "      <td>0</td>\n",
       "      <td>retrieve data from NSUserDefaults to TableView</td>\n",
       "      <td>I save values of two labels through NSUserDefa...</td>\n",
       "      <td>iphone</td>\n",
       "      <td>objective-c</td>\n",
       "      <td>ios5</td>\n",
       "      <td>NaN</td>\n",
       "      <td>NaN</td>\n",
       "      <td>NaN</td>\n",
       "      <td>open</td>\n",
       "    </tr>\n",
       "    <tr>\n",
       "      <th>...</th>\n",
       "      <td>...</td>\n",
       "      <td>...</td>\n",
       "      <td>...</td>\n",
       "      <td>...</td>\n",
       "      <td>...</td>\n",
       "      <td>...</td>\n",
       "      <td>...</td>\n",
       "      <td>...</td>\n",
       "      <td>...</td>\n",
       "      <td>...</td>\n",
       "      <td>...</td>\n",
       "      <td>...</td>\n",
       "      <td>...</td>\n",
       "      <td>...</td>\n",
       "      <td>...</td>\n",
       "    </tr>\n",
       "    <tr>\n",
       "      <th>3370523</th>\n",
       "      <td>11731072</td>\n",
       "      <td>07/30/2012 23:22:05</td>\n",
       "      <td>996334</td>\n",
       "      <td>10/15/2011 00:02:23</td>\n",
       "      <td>166</td>\n",
       "      <td>0</td>\n",
       "      <td>Dividing an array by filter function</td>\n",
       "      <td>I have a Javascript array that I would like to...</td>\n",
       "      <td>javascript</td>\n",
       "      <td>NaN</td>\n",
       "      <td>NaN</td>\n",
       "      <td>NaN</td>\n",
       "      <td>NaN</td>\n",
       "      <td>NaN</td>\n",
       "      <td>open</td>\n",
       "    </tr>\n",
       "    <tr>\n",
       "      <th>3370524</th>\n",
       "      <td>11731048</td>\n",
       "      <td>07/30/2012 23:19:10</td>\n",
       "      <td>216857</td>\n",
       "      <td>11/23/2009 08:56:56</td>\n",
       "      <td>431</td>\n",
       "      <td>5</td>\n",
       "      <td>JavaScript Link Extractor</td>\n",
       "      <td>I am interested in extracting links from sites...</td>\n",
       "      <td>javascript</td>\n",
       "      <td>hyperlink</td>\n",
       "      <td>extract</td>\n",
       "      <td>crawl</td>\n",
       "      <td>NaN</td>\n",
       "      <td>NaN</td>\n",
       "      <td>open</td>\n",
       "    </tr>\n",
       "    <tr>\n",
       "      <th>3370525</th>\n",
       "      <td>11731091</td>\n",
       "      <td>07/30/2012 23:24:49</td>\n",
       "      <td>1564321</td>\n",
       "      <td>07/30/2012 23:11:04</td>\n",
       "      <td>1</td>\n",
       "      <td>0</td>\n",
       "      <td>Selenium Remote Webdriver insane memory usage</td>\n",
       "      <td>I've created a small python script to run test...</td>\n",
       "      <td>selenium</td>\n",
       "      <td>python-2.7</td>\n",
       "      <td>selenium-rc</td>\n",
       "      <td>selenium2</td>\n",
       "      <td>NaN</td>\n",
       "      <td>NaN</td>\n",
       "      <td>open</td>\n",
       "    </tr>\n",
       "    <tr>\n",
       "      <th>3370526</th>\n",
       "      <td>11731092</td>\n",
       "      <td>07/30/2012 23:24:50</td>\n",
       "      <td>1432894</td>\n",
       "      <td>06/02/2012 21:23:55</td>\n",
       "      <td>75</td>\n",
       "      <td>8</td>\n",
       "      <td>Searching through an array of dictionaries</td>\n",
       "      <td>I'm making an iPhone app which displays inform...</td>\n",
       "      <td>iphone</td>\n",
       "      <td>objective-c</td>\n",
       "      <td>xcode</td>\n",
       "      <td>search</td>\n",
       "      <td>nsmutablearray</td>\n",
       "      <td>NaN</td>\n",
       "      <td>open</td>\n",
       "    </tr>\n",
       "    <tr>\n",
       "      <th>3370527</th>\n",
       "      <td>11731082</td>\n",
       "      <td>07/30/2012 23:23:44</td>\n",
       "      <td>1455028</td>\n",
       "      <td>06/14/2012 00:06:39</td>\n",
       "      <td>204</td>\n",
       "      <td>11</td>\n",
       "      <td>VB.NET - Array of Integers needs to be instant...</td>\n",
       "      <td>First try\\r\\n\\r\\n    Dim holdValues() As Integ...</td>\n",
       "      <td>vb.net</td>\n",
       "      <td>NaN</td>\n",
       "      <td>NaN</td>\n",
       "      <td>NaN</td>\n",
       "      <td>NaN</td>\n",
       "      <td>NaN</td>\n",
       "      <td>open</td>\n",
       "    </tr>\n",
       "  </tbody>\n",
       "</table>\n",
       "<p>3370528 rows × 15 columns</p>\n",
       "</div>"
      ],
      "text/plain": [
       "           PostId     PostCreationDate  OwnerUserId    OwnerCreationDate  \\\n",
       "0               4  07/31/2008 21:42:52            8  07/31/2008 21:33:24   \n",
       "1               6  07/31/2008 22:08:08            9  07/31/2008 21:35:26   \n",
       "2               8  07/31/2008 23:33:19            9  07/31/2008 21:35:26   \n",
       "3               9  07/31/2008 23:40:59            1  07/31/2008 14:22:31   \n",
       "4         9610539  03/07/2012 23:07:09      1021610  10/31/2011 08:26:49   \n",
       "...           ...                  ...          ...                  ...   \n",
       "3370523  11731072  07/30/2012 23:22:05       996334  10/15/2011 00:02:23   \n",
       "3370524  11731048  07/30/2012 23:19:10       216857  11/23/2009 08:56:56   \n",
       "3370525  11731091  07/30/2012 23:24:49      1564321  07/30/2012 23:11:04   \n",
       "3370526  11731092  07/30/2012 23:24:50      1432894  06/02/2012 21:23:55   \n",
       "3370527  11731082  07/30/2012 23:23:44      1455028  06/14/2012 00:06:39   \n",
       "\n",
       "         ReputationAtPostCreation  OwnerUndeletedAnswerCountAtPostTime  \\\n",
       "0                               1                                    0   \n",
       "1                               1                                    0   \n",
       "2                              16                                    1   \n",
       "3                               1                                    1   \n",
       "4                              29                                    0   \n",
       "...                           ...                                  ...   \n",
       "3370523                       166                                    0   \n",
       "3370524                       431                                    5   \n",
       "3370525                         1                                    0   \n",
       "3370526                        75                                    8   \n",
       "3370527                       204                                   11   \n",
       "\n",
       "                                                     Title  \\\n",
       "0                                       Decimal vs Double?   \n",
       "1        Percentage width child in absolutely positione...   \n",
       "2                          Tools for porting J# code to C#   \n",
       "3                  How do I calculate someone's age in c#?   \n",
       "4           retrieve data from NSUserDefaults to TableView   \n",
       "...                                                    ...   \n",
       "3370523               Dividing an array by filter function   \n",
       "3370524                          JavaScript Link Extractor   \n",
       "3370525      Selenium Remote Webdriver insane memory usage   \n",
       "3370526         Searching through an array of dictionaries   \n",
       "3370527  VB.NET - Array of Integers needs to be instant...   \n",
       "\n",
       "                                              BodyMarkdown        Tag1  \\\n",
       "0        I'm new to C#, and I want to use a trackbar fo...          c#   \n",
       "1        I've got an absolutely positioned div containi...        html   \n",
       "2        Are there any conversion tools for porting Vis...          j#   \n",
       "3        Given a DateTime representing their birthday, ...          c#   \n",
       "4        I save values of two labels through NSUserDefa...      iphone   \n",
       "...                                                    ...         ...   \n",
       "3370523  I have a Javascript array that I would like to...  javascript   \n",
       "3370524  I am interested in extracting links from sites...  javascript   \n",
       "3370525  I've created a small python script to run test...    selenium   \n",
       "3370526  I'm making an iPhone app which displays inform...      iphone   \n",
       "3370527  First try\\r\\n\\r\\n    Dim holdValues() As Integ...      vb.net   \n",
       "\n",
       "                Tag2         Tag3       Tag4            Tag5 PostClosedDate  \\\n",
       "0                NaN          NaN        NaN             NaN            NaN   \n",
       "1                css          NaN        NaN             NaN            NaN   \n",
       "2                NaN          NaN        NaN             NaN            NaN   \n",
       "3                NaN          NaN        NaN             NaN            NaN   \n",
       "4        objective-c         ios5        NaN             NaN            NaN   \n",
       "...              ...          ...        ...             ...            ...   \n",
       "3370523          NaN          NaN        NaN             NaN            NaN   \n",
       "3370524    hyperlink      extract      crawl             NaN            NaN   \n",
       "3370525   python-2.7  selenium-rc  selenium2             NaN            NaN   \n",
       "3370526  objective-c        xcode     search  nsmutablearray            NaN   \n",
       "3370527          NaN          NaN        NaN             NaN            NaN   \n",
       "\n",
       "        OpenStatus  \n",
       "0             open  \n",
       "1             open  \n",
       "2             open  \n",
       "3             open  \n",
       "4             open  \n",
       "...            ...  \n",
       "3370523       open  \n",
       "3370524       open  \n",
       "3370525       open  \n",
       "3370526       open  \n",
       "3370527       open  \n",
       "\n",
       "[3370528 rows x 15 columns]"
      ]
     },
     "execution_count": 11,
     "metadata": {},
     "output_type": "execute_result"
    }
   ],
   "source": [
    "df"
   ]
  },
  {
   "cell_type": "markdown",
   "metadata": {},
   "source": [
    "### function to run logistic regression model with the given bow converter and data"
   ]
  },
  {
   "cell_type": "code",
   "execution_count": 12,
   "metadata": {
    "pycharm": {
     "name": "#%%\n"
    }
   },
   "outputs": [],
   "source": [
    "def run_logisitc(allData, allLabels, description,  bow_converter, _C=1.0,):\n",
    "    kf = KFold(n_splits=5, shuffle=True)\n",
    "    for trainingIndex, testingIndex in kf.split(allData):\n",
    "        # get the train/test labels and data from split\n",
    "        trainingData, testingData = allData[trainingIndex], allData[testingIndex]\n",
    "        trainingLabels, testingLabels = allLabels[trainingIndex], allLabels[testingIndex]\n",
    "\n",
    "        # convert the data to bow\n",
    "        trainingData = bow_converter.fit_transform(trainingData)\n",
    "        testingData = bow_converter.transform(testingData)\n",
    "\n",
    "        # create the model\n",
    "        model = LogisticRegression(C=1.0, max_iter=1000).fit(trainingData, trainingLabels)\n",
    "\n",
    "        # get the model score\n",
    "        score = model.score(testingData, testingLabels)\n",
    "        print(description, \" model score: \", score)\n",
    "\n",
    "        # get label prediction\n",
    "        labelPrediction = model.predict_proba(testingData)[:, 1]\n",
    "\n",
    "        # use prediction to get metrics\n",
    "        precision, recall, thresholds = precision_recall_curve(testingLabels, labelPrediction)\n",
    "        average_precision = average_precision_score(testingLabels, labelPrediction)\n",
    "\n",
    "        # plot curve\n",
    "        disp = plot_precision_recall_curve(model, testingData, testingLabels)\n",
    "        disp.ax_.set_title('2-class Precision-Recall curve: '\n",
    "                        'AP={0:0.2f}'.format(average_precision))\n",
    "\n",
    "\n"
   ]
  },
  {
   "cell_type": "code",
   "execution_count": 14,
   "metadata": {},
   "outputs": [
    {
     "data": {
      "text/plain": [
       "10000"
      ]
     },
     "execution_count": 14,
     "metadata": {},
     "output_type": "execute_result"
    }
   ],
   "source": [
    "# turn into numpy array \n",
    "allLabels = np.array(dataSample['All_Labels'])\n",
    "allLabels.size"
   ]
  },
  {
   "cell_type": "code",
   "execution_count": 15,
   "metadata": {},
   "outputs": [
    {
     "data": {
      "text/plain": [
       "10000"
      ]
     },
     "execution_count": 15,
     "metadata": {},
     "output_type": "execute_result"
    }
   ],
   "source": [
    "# turn into numpy array \n",
    "titlesAndText = np.array(dataSample['Title_Text_Cleaned'])\n",
    "titlesAndText.size"
   ]
  },
  {
   "cell_type": "code",
   "execution_count": 16,
   "metadata": {},
   "outputs": [
    {
     "name": "stdout",
     "output_type": "stream",
     "text": [
      "bigram BOW  model score:  0.9725\n"
     ]
    },
    {
     "name": "stderr",
     "output_type": "stream",
     "text": [
      "/Users/dylanedwards/Desktop/oxy-nlp/final-project/venv/lib/python3.8/site-packages/sklearn/utils/deprecation.py:87: FutureWarning: Function plot_precision_recall_curve is deprecated; Function `plot_precision_recall_curve` is deprecated in 1.0 and will be removed in 1.2. Use one of the class methods: PrecisionRecallDisplay.from_predictions or PrecisionRecallDisplay.from_estimator.\n",
      "  warnings.warn(msg, category=FutureWarning)\n"
     ]
    },
    {
     "name": "stdout",
     "output_type": "stream",
     "text": [
      "bigram BOW  model score:  0.978\n"
     ]
    },
    {
     "name": "stderr",
     "output_type": "stream",
     "text": [
      "/Users/dylanedwards/Desktop/oxy-nlp/final-project/venv/lib/python3.8/site-packages/sklearn/utils/deprecation.py:87: FutureWarning: Function plot_precision_recall_curve is deprecated; Function `plot_precision_recall_curve` is deprecated in 1.0 and will be removed in 1.2. Use one of the class methods: PrecisionRecallDisplay.from_predictions or PrecisionRecallDisplay.from_estimator.\n",
      "  warnings.warn(msg, category=FutureWarning)\n"
     ]
    },
    {
     "name": "stdout",
     "output_type": "stream",
     "text": [
      "bigram BOW  model score:  0.972\n"
     ]
    },
    {
     "name": "stderr",
     "output_type": "stream",
     "text": [
      "/Users/dylanedwards/Desktop/oxy-nlp/final-project/venv/lib/python3.8/site-packages/sklearn/utils/deprecation.py:87: FutureWarning: Function plot_precision_recall_curve is deprecated; Function `plot_precision_recall_curve` is deprecated in 1.0 and will be removed in 1.2. Use one of the class methods: PrecisionRecallDisplay.from_predictions or PrecisionRecallDisplay.from_estimator.\n",
      "  warnings.warn(msg, category=FutureWarning)\n"
     ]
    },
    {
     "name": "stdout",
     "output_type": "stream",
     "text": [
      "bigram BOW  model score:  0.9795\n"
     ]
    },
    {
     "name": "stderr",
     "output_type": "stream",
     "text": [
      "/Users/dylanedwards/Desktop/oxy-nlp/final-project/venv/lib/python3.8/site-packages/sklearn/utils/deprecation.py:87: FutureWarning: Function plot_precision_recall_curve is deprecated; Function `plot_precision_recall_curve` is deprecated in 1.0 and will be removed in 1.2. Use one of the class methods: PrecisionRecallDisplay.from_predictions or PrecisionRecallDisplay.from_estimator.\n",
      "  warnings.warn(msg, category=FutureWarning)\n"
     ]
    },
    {
     "name": "stdout",
     "output_type": "stream",
     "text": [
      "bigram BOW  model score:  0.9795\n"
     ]
    },
    {
     "name": "stderr",
     "output_type": "stream",
     "text": [
      "/Users/dylanedwards/Desktop/oxy-nlp/final-project/venv/lib/python3.8/site-packages/sklearn/utils/deprecation.py:87: FutureWarning: Function plot_precision_recall_curve is deprecated; Function `plot_precision_recall_curve` is deprecated in 1.0 and will be removed in 1.2. Use one of the class methods: PrecisionRecallDisplay.from_predictions or PrecisionRecallDisplay.from_estimator.\n",
      "  warnings.warn(msg, category=FutureWarning)\n"
     ]
    },
    {
     "data": {
      "image/png": "[encoded data removed]",
      "text/plain": [
       "<Figure size 432x288 with 1 Axes>"
      ]
     },
     "metadata": {
      "needs_background": "light"
     },
     "output_type": "display_data"
    },
    {
     "data": {
      "image/png": "[encoded data removed]",
      "text/plain": [
       "<Figure size 432x288 with 1 Axes>"
      ]
     },
     "metadata": {
      "needs_background": "light"
     },
     "output_type": "display_data"
    },
    {
     "data": {
      "image/png": "[encoded data removed]",
      "text/plain": [
       "<Figure size 432x288 with 1 Axes>"
      ]
     },
     "metadata": {
      "needs_background": "light"
     },
     "output_type": "display_data"
    },
    {
     "data": {
      "image/png": "[encoded data removed]",
      "text/plain": [
       "<Figure size 432x288 with 1 Axes>"
      ]
     },
     "metadata": {
      "needs_background": "light"
     },
     "output_type": "display_data"
    },
    {
     "data": {
      "image/png": "[encoded data removed]",
      "text/plain": [
       "<Figure size 432x288 with 1 Axes>"
      ]
     },
     "metadata": {
      "needs_background": "light"
     },
     "output_type": "display_data"
    }
   ],
   "source": [
    "bigram_converter = CountVectorizer(tokenizer=lambda doc: doc, lowercase=False) \n",
    "run_logisitc(titlesAndText, allLabels, \"bigram BOW\", bigram_converter)"
   ]
  }
 ],
 "metadata": {
  "interpreter": {
   "hash": "2972d6e7ffecf54ed5e842bd2e14961f37161ce7e144cb9624e826c965cf2420"
  },
  "kernelspec": {
   "display_name": "Python 3.8.0 64-bit ('venv': venv)",
   "name": "python3"
  },
  "language_info": {
   "codemirror_mode": {
    "name": "ipython",
    "version": 3
   },
   "file_extension": ".py",
   "mimetype": "text/x-python",
   "name": "python",
   "nbconvert_exporter": "python",
   "pygments_lexer": "ipython3",
   "version": "3.8.0"
  }
 },
 "nbformat": 4,
 "nbformat_minor": 1
}
